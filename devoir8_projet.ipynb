import pandas as pd
import matplotlib.pyplot as plt
import plotly.express as px

# Données miniatures intégrées
data = {
    "date": ["2020-03-01", "2020-04-01", "2020-05-01",
             "2020-03-01", "2020-04-01", "2020-05-01",
             "2020-03-01", "2020-04-01", "2020-05-01"],
    "location": ["France", "France", "France",
                 "United States", "United States", "United States",
                 "Kenya", "Kenya", "Kenya"],
    "total_cases": [130, 52128, 167305,
                    100, 213372, 1103429,
                    1, 81, 411],
    "total_deaths": [2, 4032, 24377,
                     1, 4757, 64660,
                     0, 3, 21],
    "new_cases": [130, 52000, 115000,
                  100, 213272, 889057,
                  1, 80, 330],
    "new_deaths": [2, 4030, 20345,
                   1, 4756, 59803,
                   0, 3, 18],
    "total_vaccinations": [0, 0, 0,
                          0, 0, 0,
                          0, 0, 0],
    "population": [67000000, 67000000, 67000000,
                   330000000, 330000000, 330000000,
                   54000000, 54000000, 54000000],
    "iso_code": ["FRA", "FRA", "FRA",
                 "USA", "USA", "USA",
                 "KEN", "KEN", "KEN"]
}

df = pd.DataFrame(data)
df["date"] = pd.to_datetime(df["date"])
df.head()

# La 2ème partie # La 2ème partie # La 2ème partie # La 2ème partie # La 2ème partie # La 2ème partie # La 2ème partie # La 2ème partie # La 2ème partie
# Remplacer les valeurs manquantes (ici aucune, mais c'est une bonne pratique)
df = df.fillna(0)


# La 3ème partie # La 3ème partie # La 3ème partie # La 3ème partie # La 3ème partie # La 3ème partie # La 3ème partie # La 3ème partie # La 3ème partie
df["mortality_rate"] = df["total_deaths"] / df["total_cases"]
df[["location", "date", "mortality_rate"]].head()


 # La 4ème partie # La 4ème partie # La 4ème partie # La 4ème partie # La 4ème partie # La 4ème partie # La 4ème partie # La 4ème partie
plt.figure(figsize=(10,6))
for pays in df["location"].unique():
    data_p = df[df["location"] == pays]
    plt.plot(data_p["date"], data_p["total_cases"], label=f"Cas - {pays}")
    plt.plot(data_p["date"], data_p["total_deaths"], label=f"Décès - {pays}", linestyle="--")

plt.title("Evolution des cas et décès COVID-19")
plt.xlabel("Date")
plt.ylabel("Nombre")
plt.legend()
plt.grid(True)
plt.show()


# La 5ème partie # La 5ème partie # La 5ème partie # La 5ème partie # La 5ème partie # La 5ème partie # La 5ème partie # La 5ème partie # La 5ème partie  

plt.figure(figsize=(10,5))
for pays in df["location"].unique():
    data_p = df[df["location"] == pays]
    plt.plot(data_p["date"], data_p["total_vaccinations"], label=pays)

plt.title("Total vaccinations COVID-19")
plt.xlabel("Date")
plt.ylabel("Nombre de vaccinations")
plt.legend()
plt.grid(True)
plt.show()



# La 6ème partie # La 6ème partie # La 6ème partie # La 6ème partie # La 6ème partie # La 6ème partie # La 6ème partie # La 6ème partie # La 6ème partie
import plotly.io as pio
pio.renderers.default = 'notebook_connected'


dernier_date = df["date"].max()
df_last = df[df["date"] == dernier_date]

fig = px.choropleth(
    df_last,
    locations="iso_code",
    color="total_cases",
    hover_name="location",
    color_continuous_scale="Reds",
    title=f"Cas COVID-19 au {dernier_date.date()}"
 )
fig.show()


